{
 "cells": [
  {
   "cell_type": "markdown",
   "metadata": {},
   "source": [
    "*Warning: this is just an example to understand how k-NN works*"
   ]
  },
  {
   "cell_type": "code",
   "execution_count": 1,
   "metadata": {},
   "outputs": [],
   "source": [
    "from io import StringIO\n",
    "import math\n",
    "import matplotlib.pyplot as plt\n",
    "from matplotlib.colors import ListedColormap\n",
    "import numpy as np\n",
    "import urllib"
   ]
  },
  {
   "cell_type": "markdown",
   "metadata": {},
   "source": [
    "## Import the iris dataset"
   ]
  },
  {
   "cell_type": "code",
   "execution_count": 2,
   "metadata": {},
   "outputs": [],
   "source": [
    "url = 'https://archive.ics.uci.edu/ml/machine-learning-databases/iris/iris.data'\n",
    "data_str = StringIO(urllib.request.urlopen(url).read().decode())\n",
    "\n",
    "def iris_name_to_int(name):\n",
    "    if name == b'Iris-setosa': return 0\n",
    "    if name == b'Iris-versicolor': return 1\n",
    "    return 2\n",
    "    \n",
    "dataset = np.loadtxt(data_str, delimiter=',', usecols=(2,3,4), converters={4: iris_name_to_int})\n",
    "np.random.shuffle(dataset)\n",
    "train_X = np.array(dataset[:100,[0,1]])\n",
    "train_Y = np.array(dataset[:100,2])\n",
    "test_X = np.array(dataset[100:,[0,1]])\n",
    "test_Y = np.array(dataset[100:,2])"
   ]
  },
  {
   "cell_type": "markdown",
   "metadata": {},
   "source": [
    "The dataset is organized this way :\n",
    "\n",
    "X = **\\[ \\[ Petal length, Petal width \\] \\]** with shape **(n_instance, n_feature)**\n",
    "\n",
    "Y = **\\[ Iris type name \\]** with shape **(n_instance)** where :\n",
    "\n",
    "    0 = setosa\n",
    "    1 = versicolor\n",
    "    2 = virginica\n",
    "\n",
    "I only choose 2 features for the sake of simplicity."
   ]
  },
  {
   "cell_type": "markdown",
   "metadata": {},
   "source": [
    "## Plot the data"
   ]
  },
  {
   "cell_type": "code",
   "execution_count": 3,
   "metadata": {},
   "outputs": [
    {
     "data": {
      "image/png": "[encoded data removed]",
      "text/plain": [
       "<Figure size 432x288 with 1 Axes>"
      ]
     },
     "metadata": {},
     "output_type": "display_data"
    }
   ],
   "source": [
    "seto = plt.scatter(train_X[np.where(train_Y == 0),0], train_X[np.where(train_Y == 0),1], marker='o', color='r')\n",
    "vers = plt.scatter(train_X[np.where(train_Y == 1),0], train_X[np.where(train_Y == 1),1], marker='o', color='g')\n",
    "virg = plt.scatter(train_X[np.where(train_Y == 2),0], train_X[np.where(train_Y == 2),1], marker='o', color='b')\n",
    "plt.legend((seto, vers, virg), ('setosa', 'versicolor', 'virginica'))\n",
    "plt.xlabel('Petal length (cm)')\n",
    "plt.ylabel('Petal width (cm)')\n",
    "plt.show()"
   ]
  },
  {
   "cell_type": "markdown",
   "metadata": {},
   "source": [
    "## Distance between two data instances"
   ]
  },
  {
   "cell_type": "markdown",
   "metadata": {},
   "source": [
    "<center>In a 2D space, the [Euclidean distance](https://en.wikipedia.org/wiki/Euclidean_distance) between two points is equal to:</center>\n",
    "\n",
    "$$\\sqrt{(a_1 - b_1)^2 + (a_2 - b_2)^2}$$"
   ]
  },
  {
   "cell_type": "code",
   "execution_count": 4,
   "metadata": {},
   "outputs": [
    {
     "name": "stdout",
     "output_type": "stream",
     "text": [
      "2.8284271247461903\n"
     ]
    }
   ],
   "source": [
    "def distance(a, b):\n",
    "    dx = pow(a[0] - b[0], 2)\n",
    "    dy = pow(a[1] - b[1], 2)\n",
    "    \n",
    "    return math.sqrt(dx + dy)\n",
    "\n",
    "print(distance([1,1], [3,3])) # test"
   ]
  },
  {
   "cell_type": "markdown",
   "metadata": {},
   "source": [
    "## Find nearest neighbors"
   ]
  },
  {
   "cell_type": "code",
   "execution_count": 5,
   "metadata": {},
   "outputs": [
    {
     "name": "stdout",
     "output_type": "stream",
     "text": [
      "[(28, 0.14142136) (98, 0.14142136) (39, 0.2       )]\n"
     ]
    }
   ],
   "source": [
    "def find_k_neighbors(instance, k):\n",
    "    distances = [ (x, distance(instance, train_X[x])) for x in range(len(train_X)) ]\n",
    "    np_distances = np.array(distances, dtype=[('index', int), ('distance', float)])\n",
    "    \n",
    "    return np.sort(np_distances, order='distance')[:k]\n",
    "\n",
    "print(find_k_neighbors([6, 2], 3)) # test"
   ]
  },
  {
   "cell_type": "markdown",
   "metadata": {},
   "source": [
    "## Select majority"
   ]
  },
  {
   "cell_type": "code",
   "execution_count": 6,
   "metadata": {},
   "outputs": [
    {
     "name": "stdout",
     "output_type": "stream",
     "text": [
      "0.0\n"
     ]
    }
   ],
   "source": [
    "def majority(neighbors):\n",
    "    iris_types = [ train_Y[idx] for (idx, dist) in neighbors ]\n",
    "    (values,counts) = np.unique(iris_types,return_counts=True)\n",
    "    idx = np.argmax(counts)\n",
    "    \n",
    "    return values[idx]\n",
    "\n",
    "print(majority([(50, 1), (1, 2), (70, 3), (75, 3)])) # test"
   ]
  },
  {
   "cell_type": "markdown",
   "metadata": {},
   "source": [
    "## Test"
   ]
  },
  {
   "cell_type": "code",
   "execution_count": 7,
   "metadata": {},
   "outputs": [],
   "source": [
    "def predict(instance, k):\n",
    "    return majority(find_k_neighbors(instance, k))"
   ]
  },
  {
   "cell_type": "code",
   "execution_count": 8,
   "metadata": {},
   "outputs": [],
   "source": [
    "def test(k):\n",
    "    correct = 0\n",
    "    for x in range(len(test_X)):\n",
    "        if predict(test_X[x], k) == test_Y[x]:\n",
    "            correct += 1\n",
    "    accuracy = (correct/float(len(test_X))) * 100.0\n",
    "    \n",
    "    print('Accuracy: ' + str(accuracy) + '%')\n",
    "    print('Correct: ' + str(correct) + '/' + str(len(test_X)))"
   ]
  },
  {
   "cell_type": "code",
   "execution_count": 9,
   "metadata": {},
   "outputs": [
    {
     "name": "stdout",
     "output_type": "stream",
     "text": [
      "Accuracy: 96.0%\n",
      "Correct: 48/50\n"
     ]
    }
   ],
   "source": [
    "k = 4\n",
    "test(k)"
   ]
  },
  {
   "cell_type": "markdown",
   "metadata": {},
   "source": [
    "## Decision boundaries"
   ]
  },
  {
   "cell_type": "code",
   "execution_count": 10,
   "metadata": {},
   "outputs": [
    {
     "data": {
      "image/png": "[encoded data removed]",
      "text/plain": [
       "<Figure size 432x288 with 1 Axes>"
      ]
     },
     "metadata": {},
     "output_type": "display_data"
    }
   ],
   "source": [
    "cmap_boundaries = ListedColormap(['#FFAAAA', '#AAFFAA', '#AAAAFF'])\n",
    "\n",
    "step_size = .02\n",
    "x_min, x_max = train_X[:, 0].min() - 0.3, train_X[:, 0].max() + 0.3\n",
    "y_min, y_max = train_X[:, 1].min() - 0.3, train_X[:, 1].max() + 0.3\n",
    "x_steps, y_steps = np.meshgrid(np.arange(x_min, x_max, step_size),\n",
    "                     np.arange(y_min, y_max, step_size))\n",
    "\n",
    "Z = np.array([predict(step, k) for step in np.c_[x_steps.ravel(), y_steps.ravel()]])\n",
    "\n",
    "Z = Z.reshape(x_steps.shape)\n",
    "plt.figure()\n",
    "plt.pcolormesh(x_steps, y_steps, Z, cmap=cmap_boundaries)\n",
    "\n",
    "seto = plt.scatter(train_X[np.where(train_Y == 0),0], train_X[np.where(train_Y == 0),1], marker='o', color='r')\n",
    "vers = plt.scatter(train_X[np.where(train_Y == 1),0], train_X[np.where(train_Y == 1),1], marker='o', color='g')\n",
    "virg = plt.scatter(train_X[np.where(train_Y == 2),0], train_X[np.where(train_Y == 2),1], marker='o', color='b')\n",
    "plt.legend((seto, vers, virg), ('setosa', 'versicolor', 'virginica'))\n",
    "plt.xlim(x_steps.min(), x_steps.max())\n",
    "plt.ylim(y_steps.min(), y_steps.max())\n",
    "plt.show()"
   ]
  }
 ],
 "metadata": {
  "kernelspec": {
   "display_name": "Python 3",
   "language": "python",
   "name": "python3"
  },
  "language_info": {
   "codemirror_mode": {
    "name": "ipython",
    "version": 3
   },
   "file_extension": ".py",
   "mimetype": "text/x-python",
   "name": "python",
   "nbconvert_exporter": "python",
   "pygments_lexer": "ipython3",
   "version": "3.6.5"
  }
 },
 "nbformat": 4,
 "nbformat_minor": 2
}
